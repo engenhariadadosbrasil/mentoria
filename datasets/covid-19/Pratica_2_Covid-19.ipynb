{
 "cells": [
  {
   "cell_type": "code",
   "execution_count": null,
   "id": "9424e2f2-0d99-4731-a4f1-ab3628d2d951",
   "metadata": {},
   "outputs": [],
   "source": [
    "!pip install findspark\n",
    "\n",
    "from pyspark import SparkContext\n",
    "import pyspark\n",
    "from pyspark.sql import SparkSession\n",
    "import findspark\n",
    "\n",
    "findspark.init()\n",
    "conf = pyspark.SparkConf()\n",
    "\n",
    "spark = SparkSession.builder.config(conf=conf).getOrCreate()"
   ]
  },
  {
   "cell_type": "code",
   "execution_count": null,
   "id": "baea7e97-90d5-4dfc-9a49-0d1ace6e94dc",
   "metadata": {},
   "outputs": [
    {
     "name": "stdout",
     "output_type": "stream",
     "text": [
      "Collecting package metadata (current_repodata.json): done\n",
      "Solving environment: done\n",
      "\n",
      "\n",
      "==> WARNING: A newer version of conda exists. <==\n",
      "  current version: 4.12.0\n",
      "  latest version: 4.13.0\n",
      "\n",
      "Please update conda by running\n",
      "\n",
      "    $ conda update -n base conda\n",
      "\n",
      "\n",
      "\n",
      "# All requested packages already installed.\n",
      "\n",
      "Archive:  archive.zip\n",
      "replace country_wise_latest.csv? [y]es, [n]o, [A]ll, [N]one, [r]ename: "
     ]
    }
   ],
   "source": [
    "# Iremos reproduzir o exemplo da documentação do Spark para lidar com arquivos CSV\n",
    "# https://spark.apache.org/docs/latest/sql-data-sources-csv.html\n",
    "\n",
    "!conda install -y -c conda-forge unzip\n",
    "!unzip archive.zip"
   ]
  },
  {
   "cell_type": "code",
   "execution_count": 3,
   "id": "2fecff52-00a5-4533-b397-5597f4d8ab45",
   "metadata": {},
   "outputs": [],
   "source": [
    "path = \"day_wise.csv\""
   ]
  },
  {
   "cell_type": "code",
   "execution_count": 18,
   "id": "93856be3-cef2-4aab-ac78-1a95c36cdb3f",
   "metadata": {},
   "outputs": [
    {
     "name": "stdout",
     "output_type": "stream",
     "text": [
      "+----------+---------+------+---------+------+---------+----------+-------------+------------------+--------------------+--------------------+----------------+\n",
      "|       _c0|      _c1|   _c2|      _c3|   _c4|      _c5|       _c6|          _c7|               _c8|                 _c9|                _c10|            _c11|\n",
      "+----------+---------+------+---------+------+---------+----------+-------------+------------------+--------------------+--------------------+----------------+\n",
      "|      Date|Confirmed|Deaths|Recovered|Active|New cases|New deaths|New recovered|Deaths / 100 Cases|Recovered / 100 C...|Deaths / 100 Reco...|No. of countries|\n",
      "|2020-01-22|      555|    17|       28|   510|        0|         0|            0|              3.06|                5.05|               60.71|               6|\n",
      "|2020-01-23|      654|    18|       30|   606|       99|         1|            2|              2.75|                4.59|                60.0|               8|\n",
      "|2020-01-24|      941|    26|       36|   879|      287|         8|            6|              2.76|                3.83|               72.22|               9|\n",
      "|2020-01-25|     1434|    42|       39|  1353|      493|        16|            3|              2.93|                2.72|              107.69|              11|\n",
      "|2020-01-26|     2118|    56|       52|  2010|      684|        14|           13|              2.64|                2.46|              107.69|              13|\n",
      "|2020-01-27|     2927|    82|       61|  2784|      809|        26|            9|               2.8|                2.08|              134.43|              16|\n",
      "|2020-01-28|     5578|   131|      107|  5340|     2651|        49|           46|              2.35|                1.92|              122.43|              16|\n",
      "|2020-01-29|     6166|   133|      125|  5908|      588|         2|           18|              2.16|                2.03|               106.4|              18|\n",
      "|2020-01-30|     8234|   171|      141|  7922|     2068|        38|           16|              2.08|                1.71|              121.28|              20|\n",
      "|2020-01-31|     9927|   213|      219|  9495|     1693|        42|           78|              2.15|                2.21|               97.26|              24|\n",
      "|2020-02-01|    12038|   259|      281| 11498|     2111|        46|           62|              2.15|                2.33|               92.17|              25|\n",
      "|2020-02-02|    16787|   362|      459| 15966|     4749|       103|          178|              2.16|                2.73|               78.87|              25|\n",
      "|2020-02-03|    19887|   426|      604| 18857|     3100|        64|          145|              2.14|                3.04|               70.53|              25|\n",
      "|2020-02-04|    23898|   492|      821| 22585|     4011|        66|          217|              2.06|                3.44|               59.93|              26|\n",
      "|2020-02-05|    27643|   564|     1071| 26008|     3745|        72|          250|              2.04|                3.87|               52.66|              26|\n",
      "|2020-02-06|    30802|   634|     1418| 28750|     3159|        70|          347|              2.06|                 4.6|               44.71|              26|\n",
      "|2020-02-07|    34334|   719|     1903| 31712|     3532|        85|          485|              2.09|                5.54|               37.78|              26|\n",
      "|2020-02-08|    37068|   806|     2470| 33792|     2734|        87|          567|              2.17|                6.66|               32.63|              26|\n",
      "|2020-02-09|    40095|   906|     3057| 36132|     3027|       100|          587|              2.26|                7.62|               29.64|              26|\n",
      "+----------+---------+------+---------+------+---------+----------+-------------+------------------+--------------------+--------------------+----------------+\n",
      "only showing top 20 rows\n",
      "\n"
     ]
    }
   ],
   "source": [
    "df = spark.read.csv(path)\n",
    "df.show()"
   ]
  },
  {
   "cell_type": "code",
   "execution_count": 20,
   "id": "7643195b-07a7-4287-8cea-c3b093947259",
   "metadata": {},
   "outputs": [
    {
     "name": "stdout",
     "output_type": "stream",
     "text": [
      "+----------------------------------------------------------------------------------------------------------------------------------------------------------+\n",
      "|Date,Confirmed,Deaths,Recovered,Active,New cases,New deaths,New recovered,Deaths / 100 Cases,Recovered / 100 Cases,Deaths / 100 Recovered,No. of countries|\n",
      "+----------------------------------------------------------------------------------------------------------------------------------------------------------+\n",
      "|                                                                                                                                      2020-01-22,555,17...|\n",
      "|                                                                                                                                      2020-01-23,654,18...|\n",
      "|                                                                                                                                      2020-01-24,941,26...|\n",
      "|                                                                                                                                      2020-01-25,1434,4...|\n",
      "|                                                                                                                                      2020-01-26,2118,5...|\n",
      "|                                                                                                                                      2020-01-27,2927,8...|\n",
      "|                                                                                                                                      2020-01-28,5578,1...|\n",
      "|                                                                                                                                      2020-01-29,6166,1...|\n",
      "|                                                                                                                                      2020-01-30,8234,1...|\n",
      "|                                                                                                                                      2020-01-31,9927,2...|\n",
      "|                                                                                                                                      2020-02-01,12038,...|\n",
      "|                                                                                                                                      2020-02-02,16787,...|\n",
      "|                                                                                                                                      2020-02-03,19887,...|\n",
      "|                                                                                                                                      2020-02-04,23898,...|\n",
      "|                                                                                                                                      2020-02-05,27643,...|\n",
      "|                                                                                                                                      2020-02-06,30802,...|\n",
      "|                                                                                                                                      2020-02-07,34334,...|\n",
      "|                                                                                                                                      2020-02-08,37068,...|\n",
      "|                                                                                                                                      2020-02-09,40095,...|\n",
      "|                                                                                                                                      2020-02-10,42633,...|\n",
      "+----------------------------------------------------------------------------------------------------------------------------------------------------------+\n",
      "only showing top 20 rows\n",
      "\n"
     ]
    }
   ],
   "source": [
    "df2 = spark.read.option(\"delimiter\", \";\").option(\"header\", True).csv(path)\n",
    "df2.show()"
   ]
  },
  {
   "cell_type": "code",
   "execution_count": 22,
   "id": "968615f1-cc13-41af-a946-f1c0c8848aec",
   "metadata": {},
   "outputs": [
    {
     "name": "stdout",
     "output_type": "stream",
     "text": [
      "+--------------------+\n",
      "|                 _c0|\n",
      "+--------------------+\n",
      "|Date,Confirmed,De...|\n",
      "|2020-01-22,555,17...|\n",
      "|2020-01-23,654,18...|\n",
      "|2020-01-24,941,26...|\n",
      "|2020-01-25,1434,4...|\n",
      "|2020-01-26,2118,5...|\n",
      "|2020-01-27,2927,8...|\n",
      "|2020-01-28,5578,1...|\n",
      "|2020-01-29,6166,1...|\n",
      "|2020-01-30,8234,1...|\n",
      "|2020-01-31,9927,2...|\n",
      "|2020-02-01,12038,...|\n",
      "|2020-02-02,16787,...|\n",
      "|2020-02-03,19887,...|\n",
      "|2020-02-04,23898,...|\n",
      "|2020-02-05,27643,...|\n",
      "|2020-02-06,30802,...|\n",
      "|2020-02-07,34334,...|\n",
      "|2020-02-08,37068,...|\n",
      "|2020-02-09,40095,...|\n",
      "+--------------------+\n",
      "only showing top 20 rows\n",
      "\n"
     ]
    }
   ],
   "source": [
    "df3 = spark.read.option(\"delimiter\", \";\").csv(path)\n",
    "df3.show()"
   ]
  },
  {
   "cell_type": "code",
   "execution_count": 24,
   "id": "e8eb6784-0d0f-472a-9d02-599ad950c2bd",
   "metadata": {},
   "outputs": [
    {
     "name": "stdout",
     "output_type": "stream",
     "text": [
      "+----------------------------------------------------------------------------------------------------------------------------------------------------------+\n",
      "|Date,Confirmed,Deaths,Recovered,Active,New cases,New deaths,New recovered,Deaths / 100 Cases,Recovered / 100 Cases,Deaths / 100 Recovered,No. of countries|\n",
      "+----------------------------------------------------------------------------------------------------------------------------------------------------------+\n",
      "|                                                                                                                                      2020-01-22,555,17...|\n",
      "|                                                                                                                                      2020-01-23,654,18...|\n",
      "|                                                                                                                                      2020-01-24,941,26...|\n",
      "|                                                                                                                                      2020-01-25,1434,4...|\n",
      "|                                                                                                                                      2020-01-26,2118,5...|\n",
      "|                                                                                                                                      2020-01-27,2927,8...|\n",
      "|                                                                                                                                      2020-01-28,5578,1...|\n",
      "|                                                                                                                                      2020-01-29,6166,1...|\n",
      "|                                                                                                                                      2020-01-30,8234,1...|\n",
      "|                                                                                                                                      2020-01-31,9927,2...|\n",
      "|                                                                                                                                      2020-02-01,12038,...|\n",
      "|                                                                                                                                      2020-02-02,16787,...|\n",
      "|                                                                                                                                      2020-02-03,19887,...|\n",
      "|                                                                                                                                      2020-02-04,23898,...|\n",
      "|                                                                                                                                      2020-02-05,27643,...|\n",
      "|                                                                                                                                      2020-02-06,30802,...|\n",
      "|                                                                                                                                      2020-02-07,34334,...|\n",
      "|                                                                                                                                      2020-02-08,37068,...|\n",
      "|                                                                                                                                      2020-02-09,40095,...|\n",
      "|                                                                                                                                      2020-02-10,42633,...|\n",
      "+----------------------------------------------------------------------------------------------------------------------------------------------------------+\n",
      "only showing top 20 rows\n",
      "\n"
     ]
    }
   ],
   "source": [
    "df4 = spark.read.options(delimiter=\";\", header=True).csv(path)\n",
    "df4.show()"
   ]
  },
  {
   "cell_type": "code",
   "execution_count": 26,
   "id": "508c0410-61c8-4d58-b231-c6428d72f52e",
   "metadata": {},
   "outputs": [
    {
     "ename": "AnalysisException",
     "evalue": "path file:/home/jovyan/work/covid-19/output already exists.",
     "output_type": "error",
     "traceback": [
      "\u001b[0;31m---------------------------------------------------------------------------\u001b[0m",
      "\u001b[0;31mAnalysisException\u001b[0m                         Traceback (most recent call last)",
      "Input \u001b[0;32mIn [26]\u001b[0m, in \u001b[0;36m<cell line: 1>\u001b[0;34m()\u001b[0m\n\u001b[0;32m----> 1\u001b[0m \u001b[43mdf3\u001b[49m\u001b[38;5;241;43m.\u001b[39;49m\u001b[43mwrite\u001b[49m\u001b[38;5;241;43m.\u001b[39;49m\u001b[43mcsv\u001b[49m\u001b[43m(\u001b[49m\u001b[38;5;124;43m\"\u001b[39;49m\u001b[38;5;124;43moutput\u001b[39;49m\u001b[38;5;124;43m\"\u001b[39;49m\u001b[43m)\u001b[49m\n",
      "File \u001b[0;32m/usr/local/spark/python/pyspark/sql/readwriter.py:1240\u001b[0m, in \u001b[0;36mDataFrameWriter.csv\u001b[0;34m(self, path, mode, compression, sep, quote, escape, header, nullValue, escapeQuotes, quoteAll, dateFormat, timestampFormat, ignoreLeadingWhiteSpace, ignoreTrailingWhiteSpace, charToEscapeQuoteEscaping, encoding, emptyValue, lineSep)\u001b[0m\n\u001b[1;32m   1221\u001b[0m \u001b[38;5;28mself\u001b[39m\u001b[38;5;241m.\u001b[39mmode(mode)\n\u001b[1;32m   1222\u001b[0m \u001b[38;5;28mself\u001b[39m\u001b[38;5;241m.\u001b[39m_set_opts(\n\u001b[1;32m   1223\u001b[0m     compression\u001b[38;5;241m=\u001b[39mcompression,\n\u001b[1;32m   1224\u001b[0m     sep\u001b[38;5;241m=\u001b[39msep,\n\u001b[0;32m   (...)\u001b[0m\n\u001b[1;32m   1238\u001b[0m     lineSep\u001b[38;5;241m=\u001b[39mlineSep,\n\u001b[1;32m   1239\u001b[0m )\n\u001b[0;32m-> 1240\u001b[0m \u001b[38;5;28;43mself\u001b[39;49m\u001b[38;5;241;43m.\u001b[39;49m\u001b[43m_jwrite\u001b[49m\u001b[38;5;241;43m.\u001b[39;49m\u001b[43mcsv\u001b[49m\u001b[43m(\u001b[49m\u001b[43mpath\u001b[49m\u001b[43m)\u001b[49m\n",
      "File \u001b[0;32m/usr/local/spark/python/lib/py4j-0.10.9.5-src.zip/py4j/java_gateway.py:1321\u001b[0m, in \u001b[0;36mJavaMember.__call__\u001b[0;34m(self, *args)\u001b[0m\n\u001b[1;32m   1315\u001b[0m command \u001b[38;5;241m=\u001b[39m proto\u001b[38;5;241m.\u001b[39mCALL_COMMAND_NAME \u001b[38;5;241m+\u001b[39m\\\n\u001b[1;32m   1316\u001b[0m     \u001b[38;5;28mself\u001b[39m\u001b[38;5;241m.\u001b[39mcommand_header \u001b[38;5;241m+\u001b[39m\\\n\u001b[1;32m   1317\u001b[0m     args_command \u001b[38;5;241m+\u001b[39m\\\n\u001b[1;32m   1318\u001b[0m     proto\u001b[38;5;241m.\u001b[39mEND_COMMAND_PART\n\u001b[1;32m   1320\u001b[0m answer \u001b[38;5;241m=\u001b[39m \u001b[38;5;28mself\u001b[39m\u001b[38;5;241m.\u001b[39mgateway_client\u001b[38;5;241m.\u001b[39msend_command(command)\n\u001b[0;32m-> 1321\u001b[0m return_value \u001b[38;5;241m=\u001b[39m \u001b[43mget_return_value\u001b[49m\u001b[43m(\u001b[49m\n\u001b[1;32m   1322\u001b[0m \u001b[43m    \u001b[49m\u001b[43manswer\u001b[49m\u001b[43m,\u001b[49m\u001b[43m \u001b[49m\u001b[38;5;28;43mself\u001b[39;49m\u001b[38;5;241;43m.\u001b[39;49m\u001b[43mgateway_client\u001b[49m\u001b[43m,\u001b[49m\u001b[43m \u001b[49m\u001b[38;5;28;43mself\u001b[39;49m\u001b[38;5;241;43m.\u001b[39;49m\u001b[43mtarget_id\u001b[49m\u001b[43m,\u001b[49m\u001b[43m \u001b[49m\u001b[38;5;28;43mself\u001b[39;49m\u001b[38;5;241;43m.\u001b[39;49m\u001b[43mname\u001b[49m\u001b[43m)\u001b[49m\n\u001b[1;32m   1324\u001b[0m \u001b[38;5;28;01mfor\u001b[39;00m temp_arg \u001b[38;5;129;01min\u001b[39;00m temp_args:\n\u001b[1;32m   1325\u001b[0m     temp_arg\u001b[38;5;241m.\u001b[39m_detach()\n",
      "File \u001b[0;32m/usr/local/spark/python/pyspark/sql/utils.py:196\u001b[0m, in \u001b[0;36mcapture_sql_exception.<locals>.deco\u001b[0;34m(*a, **kw)\u001b[0m\n\u001b[1;32m    192\u001b[0m converted \u001b[38;5;241m=\u001b[39m convert_exception(e\u001b[38;5;241m.\u001b[39mjava_exception)\n\u001b[1;32m    193\u001b[0m \u001b[38;5;28;01mif\u001b[39;00m \u001b[38;5;129;01mnot\u001b[39;00m \u001b[38;5;28misinstance\u001b[39m(converted, UnknownException):\n\u001b[1;32m    194\u001b[0m     \u001b[38;5;66;03m# Hide where the exception came from that shows a non-Pythonic\u001b[39;00m\n\u001b[1;32m    195\u001b[0m     \u001b[38;5;66;03m# JVM exception message.\u001b[39;00m\n\u001b[0;32m--> 196\u001b[0m     \u001b[38;5;28;01mraise\u001b[39;00m converted \u001b[38;5;28;01mfrom\u001b[39;00m \u001b[38;5;28mNone\u001b[39m\n\u001b[1;32m    197\u001b[0m \u001b[38;5;28;01melse\u001b[39;00m:\n\u001b[1;32m    198\u001b[0m     \u001b[38;5;28;01mraise\u001b[39;00m\n",
      "\u001b[0;31mAnalysisException\u001b[0m: path file:/home/jovyan/work/covid-19/output already exists."
     ]
    }
   ],
   "source": [
    "df3.write.csv(\"output\")"
   ]
  },
  {
   "cell_type": "code",
   "execution_count": 31,
   "id": "c9507fbb-d78e-4b2a-b1e9-0d43cefb2efa",
   "metadata": {},
   "outputs": [],
   "source": [
    "folderPath = \"./\""
   ]
  },
  {
   "cell_type": "code",
   "execution_count": 32,
   "id": "507a2581-cb55-4118-9dea-9264708c7a83",
   "metadata": {},
   "outputs": [],
   "source": [
    "df5 = spark.read.csv(folderPath)"
   ]
  },
  {
   "cell_type": "code",
   "execution_count": 4,
   "id": "40d7f763-ef4b-46d6-a76a-3d261e17f222",
   "metadata": {},
   "outputs": [
    {
     "ename": "NameError",
     "evalue": "name 'df5' is not defined",
     "output_type": "error",
     "traceback": [
      "\u001b[0;31m---------------------------------------------------------------------------\u001b[0m",
      "\u001b[0;31mNameError\u001b[0m                                 Traceback (most recent call last)",
      "Input \u001b[0;32mIn [4]\u001b[0m, in \u001b[0;36m<cell line: 1>\u001b[0;34m()\u001b[0m\n\u001b[0;32m----> 1\u001b[0m \u001b[43mdf5\u001b[49m\u001b[38;5;241m.\u001b[39mshow()\n",
      "\u001b[0;31mNameError\u001b[0m: name 'df5' is not defined"
     ]
    }
   ],
   "source": [
    "df5.show()"
   ]
  },
  {
   "cell_type": "code",
   "execution_count": null,
   "id": "30ecc241-162f-4269-8b39-bf15646d807b",
   "metadata": {},
   "outputs": [],
   "source": [
    "# Está na hora de realizarmos algumas consultas em nosso dataset :)\n"
   ]
  },
  {
   "cell_type": "code",
   "execution_count": null,
   "id": "5c0047b3-e250-4b97-a98e-0adbebf81498",
   "metadata": {},
   "outputs": [],
   "source": []
  }
 ],
 "metadata": {
  "kernelspec": {
   "display_name": "Python 3 (ipykernel)",
   "language": "python",
   "name": "python3"
  },
  "language_info": {
   "codemirror_mode": {
    "name": "ipython",
    "version": 3
   },
   "file_extension": ".py",
   "mimetype": "text/x-python",
   "name": "python",
   "nbconvert_exporter": "python",
   "pygments_lexer": "ipython3",
   "version": "3.10.4"
  }
 },
 "nbformat": 4,
 "nbformat_minor": 5
}
